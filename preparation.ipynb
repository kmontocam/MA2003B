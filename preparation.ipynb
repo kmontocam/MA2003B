{
 "cells": [
  {
   "cell_type": "code",
   "execution_count": 4,
   "metadata": {},
   "outputs": [],
   "source": [
    "import pandas as pd\n",
    "import numpy as np\n",
    "import janitor\n",
    "import pickle\n",
    "import os\n",
    "\n",
    "import matplotlib.pyplot as plt\n",
    "import seaborn as sb"
   ]
  },
  {
   "cell_type": "code",
   "execution_count": 5,
   "metadata": {},
   "outputs": [
    {
     "name": "stdout",
     "output_type": "stream",
     "text": [
      "Your browser has been opened to visit:\n",
      "\n",
      "    https://accounts.google.com/o/oauth2/auth?client_id=438184844244-uhk0l93iq5rfack31hmfbp1ted62o9o3.apps.googleusercontent.com&redirect_uri=http%3A%2F%2Flocalhost%3A8080%2F&scope=https%3A%2F%2Fwww.googleapis.com%2Fauth%2Fdrive&access_type=offline&response_type=code\n",
      "\n",
      "Authentication successful.\n"
     ]
    }
   ],
   "source": [
    "if 'databases.pkl' not in os.listdir('./data/'):\n",
    "    from quickstart.loader import XlsxDriveLoader\n",
    "\n",
    "    Loads = XlsxDriveLoader()  # Drive Folder is hardcoded in module, since this is not prone to change\n",
    "    databases = Loads.content  # Process takes approximately ~3 minutes to run for the first time.\n",
    "                               # Then the file will be stored in the data/\n",
    "else:\n",
    "    with open('./data/databases.pkl', 'rb') as file:\n",
    "        databases = pickle.load(file)"
   ]
  },
  {
   "cell_type": "code",
   "execution_count": 6,
   "metadata": {},
   "outputs": [
    {
     "name": "stdout",
     "output_type": "stream",
     "text": [
      "BD_Tec_banderas_contaminantes.xlsx\n",
      "\tPM10\n",
      "\tPM2.5\n",
      "\tSO2\n",
      "\tO3\n",
      "\tCO\n",
      "\tNO\n",
      "\tNO2\n",
      "\tNOx\n",
      "\tLEEME\n",
      "\tHoja1\n",
      "BD_Tec_Banderas_meteo.xlsx\n",
      "\tTOUT\n",
      "\tRH\n",
      "\tSR\n",
      "\tRAINF\n",
      "\tPRS\n",
      "\tWS\n",
      "\tWD\n",
      "Anotaciones sobre banderas de contaminantes.xlsx\n",
      "\tLEEME\n",
      "\tHoja1\n",
      "BD_Tec_Banderas_2018_2021_3Estaciones.xlsx\n",
      "\tPM10\n",
      "\tPM2.5\n",
      "\tO3\n",
      "\tNO\n",
      "\tNO2\n",
      "\tNOx\n",
      "\tSO2\n",
      "\tCO\n",
      "\tPRS\n",
      "\tRH\n",
      "\tTOUT\n",
      "\tSR\n",
      "\tWSR\n",
      "\tWDR\n",
      "\tRAINF\n"
     ]
    }
   ],
   "source": [
    "for key, vals in databases.items():\n",
    "    print(f'{key}')\n",
    "    for val in vals:\n",
    "        print(f'\\t{val}')"
   ]
  }
 ],
 "metadata": {
  "kernelspec": {
   "display_name": "Python 3.9.12 ('base')",
   "language": "python",
   "name": "python3"
  },
  "language_info": {
   "codemirror_mode": {
    "name": "ipython",
    "version": 3
   },
   "file_extension": ".py",
   "mimetype": "text/x-python",
   "name": "python",
   "nbconvert_exporter": "python",
   "pygments_lexer": "ipython3",
   "version": "3.9.12"
  },
  "orig_nbformat": 4,
  "vscode": {
   "interpreter": {
    "hash": "664d3ff23a96e90f385c1b0a444556e65eef679ecf6e77192d7d9f6bb9ab3935"
   }
  }
 },
 "nbformat": 4,
 "nbformat_minor": 2
}
